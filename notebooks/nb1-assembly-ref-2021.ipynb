{
 "cells": [
  {
   "cell_type": "markdown",
   "metadata": {},
   "source": [
    "# RAD-seq assembly with ipyrad"
   ]
  },
  {
   "cell_type": "code",
   "execution_count": 56,
   "metadata": {},
   "outputs": [],
   "source": [
    "import ipyrad as ip\n",
    "import pandas as pd\n",
    "import glob"
   ]
  },
  {
   "cell_type": "markdown",
   "metadata": {},
   "source": [
    "### Sample metadata\n",
    "\n",
    "#### CSV file mapping barcodes combinations (names in already demux'd fastq files) to accession IDs"
   ]
  },
  {
   "cell_type": "code",
   "execution_count": 59,
   "metadata": {},
   "outputs": [
    {
     "data": {
      "text/html": [
       "<div>\n",
       "<style scoped>\n",
       "    .dataframe tbody tr th:only-of-type {\n",
       "        vertical-align: middle;\n",
       "    }\n",
       "\n",
       "    .dataframe tbody tr th {\n",
       "        vertical-align: top;\n",
       "    }\n",
       "\n",
       "    .dataframe thead th {\n",
       "        text-align: right;\n",
       "    }\n",
       "</style>\n",
       "<table border=\"1\" class=\"dataframe\">\n",
       "  <thead>\n",
       "    <tr style=\"text-align: right;\">\n",
       "      <th></th>\n",
       "      <th>barcode</th>\n",
       "      <th>accession</th>\n",
       "    </tr>\n",
       "  </thead>\n",
       "  <tbody>\n",
       "    <tr>\n",
       "      <th>0</th>\n",
       "      <td>TAAGGCGA-TAGATCGC</td>\n",
       "      <td>1530</td>\n",
       "    </tr>\n",
       "    <tr>\n",
       "      <th>1</th>\n",
       "      <td>CGTACTAG-TAGATCGC</td>\n",
       "      <td>1531</td>\n",
       "    </tr>\n",
       "    <tr>\n",
       "      <th>2</th>\n",
       "      <td>AGGCAGAA-TAGATCGC</td>\n",
       "      <td>1535</td>\n",
       "    </tr>\n",
       "    <tr>\n",
       "      <th>3</th>\n",
       "      <td>TCCTGAGC-TAGATCGC</td>\n",
       "      <td>1540</td>\n",
       "    </tr>\n",
       "    <tr>\n",
       "      <th>4</th>\n",
       "      <td>GGACTCCT-TAGATCGC</td>\n",
       "      <td>1541</td>\n",
       "    </tr>\n",
       "    <tr>\n",
       "      <th>5</th>\n",
       "      <td>TAGGCATG-TAGATCGC</td>\n",
       "      <td>1542</td>\n",
       "    </tr>\n",
       "    <tr>\n",
       "      <th>6</th>\n",
       "      <td>CTCTCTAC-TAGATCGC</td>\n",
       "      <td>1545</td>\n",
       "    </tr>\n",
       "    <tr>\n",
       "      <th>7</th>\n",
       "      <td>CAGAGAGG-TAGATCGC</td>\n",
       "      <td>1548</td>\n",
       "    </tr>\n",
       "    <tr>\n",
       "      <th>8</th>\n",
       "      <td>GCTACGCT-TAGATCGC</td>\n",
       "      <td>1549</td>\n",
       "    </tr>\n",
       "    <tr>\n",
       "      <th>9</th>\n",
       "      <td>CGAGGCTG-TAGATCGC</td>\n",
       "      <td>1550</td>\n",
       "    </tr>\n",
       "  </tbody>\n",
       "</table>\n",
       "</div>"
      ],
      "text/plain": [
       "             barcode accession\n",
       "0  TAAGGCGA-TAGATCGC      1530\n",
       "1  CGTACTAG-TAGATCGC      1531\n",
       "2  AGGCAGAA-TAGATCGC      1535\n",
       "3  TCCTGAGC-TAGATCGC      1540\n",
       "4  GGACTCCT-TAGATCGC      1541\n",
       "5  TAGGCATG-TAGATCGC      1542\n",
       "6  CTCTCTAC-TAGATCGC      1545\n",
       "7  CAGAGAGG-TAGATCGC      1548\n",
       "8  GCTACGCT-TAGATCGC      1549\n",
       "9  CGAGGCTG-TAGATCGC      1550"
      ]
     },
     "execution_count": 59,
     "metadata": {},
     "output_type": "execute_result"
    }
   ],
   "source": [
    "bcdf = pd.read_csv(\"../metadata/barcode_map.csv\", sep=\"\\t\")\n",
    "bcdf.head(10)"
   ]
  },
  {
   "cell_type": "markdown",
   "metadata": {},
   "source": [
    "#### CSV file with accession IDs, species names, and sample info\n",
    "Here we want to use the `specie` label which is the new updated name (`oldname` is original description)."
   ]
  },
  {
   "cell_type": "code",
   "execution_count": 60,
   "metadata": {},
   "outputs": [
    {
     "data": {
      "text/html": [
       "<div>\n",
       "<style scoped>\n",
       "    .dataframe tbody tr th:only-of-type {\n",
       "        vertical-align: middle;\n",
       "    }\n",
       "\n",
       "    .dataframe tbody tr th {\n",
       "        vertical-align: top;\n",
       "    }\n",
       "\n",
       "    .dataframe thead th {\n",
       "        text-align: right;\n",
       "    }\n",
       "</style>\n",
       "<table border=\"1\" class=\"dataframe\">\n",
       "  <thead>\n",
       "    <tr style=\"text-align: right;\">\n",
       "      <th></th>\n",
       "      <th>accession</th>\n",
       "      <th>Genus</th>\n",
       "      <th>specie</th>\n",
       "      <th>subspecie</th>\n",
       "      <th>Localidad</th>\n",
       "      <th>Lat</th>\n",
       "      <th>Long</th>\n",
       "      <th>oldname</th>\n",
       "    </tr>\n",
       "  </thead>\n",
       "  <tbody>\n",
       "    <tr>\n",
       "      <th>0</th>\n",
       "      <td>1075</td>\n",
       "      <td>Eriosyce</td>\n",
       "      <td>litoralis</td>\n",
       "      <td>NaN</td>\n",
       "      <td>TotoralilloIVR</td>\n",
       "      <td>-30.068180</td>\n",
       "      <td>-71.375040</td>\n",
       "      <td>litoralis</td>\n",
       "    </tr>\n",
       "    <tr>\n",
       "      <th>1</th>\n",
       "      <td>1083</td>\n",
       "      <td>Eriosyce</td>\n",
       "      <td>litoralis</td>\n",
       "      <td>NaN</td>\n",
       "      <td>TotoralilloIVR</td>\n",
       "      <td>-30.069180</td>\n",
       "      <td>-71.375780</td>\n",
       "      <td>litoralis</td>\n",
       "    </tr>\n",
       "    <tr>\n",
       "      <th>2</th>\n",
       "      <td>1093</td>\n",
       "      <td>Eriosyce</td>\n",
       "      <td>clavata</td>\n",
       "      <td>NaN</td>\n",
       "      <td>Qda.Manqueza</td>\n",
       "      <td>-29.913730</td>\n",
       "      <td>-70.943290</td>\n",
       "      <td>clavata</td>\n",
       "    </tr>\n",
       "    <tr>\n",
       "      <th>3</th>\n",
       "      <td>1288</td>\n",
       "      <td>Eriosyce</td>\n",
       "      <td>subgibbosa</td>\n",
       "      <td>NaN</td>\n",
       "      <td>PeninsuladeHualpenVIIIR</td>\n",
       "      <td>-36.757410</td>\n",
       "      <td>-73.176340</td>\n",
       "      <td>subgibbosa</td>\n",
       "    </tr>\n",
       "    <tr>\n",
       "      <th>4</th>\n",
       "      <td>1290</td>\n",
       "      <td>Eriosyce</td>\n",
       "      <td>subgibbosa</td>\n",
       "      <td>NaN</td>\n",
       "      <td>PeninsuladeHualpenVIIIR</td>\n",
       "      <td>-36.757410</td>\n",
       "      <td>-73.176340</td>\n",
       "      <td>subgibbosa</td>\n",
       "    </tr>\n",
       "    <tr>\n",
       "      <th>5</th>\n",
       "      <td>1332</td>\n",
       "      <td>Eriosyce</td>\n",
       "      <td>castanea</td>\n",
       "      <td>NaN</td>\n",
       "      <td>CerroLaLajuela(StaCruz)</td>\n",
       "      <td>-34.664130</td>\n",
       "      <td>-71.416970</td>\n",
       "      <td>castanea</td>\n",
       "    </tr>\n",
       "    <tr>\n",
       "      <th>6</th>\n",
       "      <td>1333</td>\n",
       "      <td>Eriosyce</td>\n",
       "      <td>castanea</td>\n",
       "      <td>NaN</td>\n",
       "      <td>CerroLaLajuela(StaCruz)</td>\n",
       "      <td>-34.664150</td>\n",
       "      <td>-71.416960</td>\n",
       "      <td>castanea</td>\n",
       "    </tr>\n",
       "    <tr>\n",
       "      <th>7</th>\n",
       "      <td>1349</td>\n",
       "      <td>Eriosyce</td>\n",
       "      <td>litoralis</td>\n",
       "      <td>NaN</td>\n",
       "      <td>Pichidanguii</td>\n",
       "      <td>-32.156120</td>\n",
       "      <td>-71.528270</td>\n",
       "      <td>subgibbosa</td>\n",
       "    </tr>\n",
       "    <tr>\n",
       "      <th>8</th>\n",
       "      <td>1350</td>\n",
       "      <td>Eriosyce</td>\n",
       "      <td>litoralis</td>\n",
       "      <td>NaN</td>\n",
       "      <td>Pichidanguii</td>\n",
       "      <td>-32.156000</td>\n",
       "      <td>-71.528190</td>\n",
       "      <td>subgibbosa</td>\n",
       "    </tr>\n",
       "    <tr>\n",
       "      <th>9</th>\n",
       "      <td>1351</td>\n",
       "      <td>Eriosyce</td>\n",
       "      <td>litoralis</td>\n",
       "      <td>NaN</td>\n",
       "      <td>Pichidanguii</td>\n",
       "      <td>-32.156112</td>\n",
       "      <td>-71.528243</td>\n",
       "      <td>subgibbosa</td>\n",
       "    </tr>\n",
       "  </tbody>\n",
       "</table>\n",
       "</div>"
      ],
      "text/plain": [
       "  accession     Genus      specie subspecie                Localidad  \\\n",
       "0      1075  Eriosyce   litoralis       NaN           TotoralilloIVR   \n",
       "1      1083  Eriosyce   litoralis       NaN           TotoralilloIVR   \n",
       "2      1093  Eriosyce     clavata       NaN             Qda.Manqueza   \n",
       "3      1288  Eriosyce  subgibbosa       NaN  PeninsuladeHualpenVIIIR   \n",
       "4      1290  Eriosyce  subgibbosa       NaN  PeninsuladeHualpenVIIIR   \n",
       "5      1332  Eriosyce    castanea       NaN  CerroLaLajuela(StaCruz)   \n",
       "6      1333  Eriosyce    castanea       NaN  CerroLaLajuela(StaCruz)   \n",
       "7      1349  Eriosyce   litoralis       NaN             Pichidanguii   \n",
       "8      1350  Eriosyce   litoralis       NaN             Pichidanguii   \n",
       "9      1351  Eriosyce   litoralis       NaN             Pichidanguii   \n",
       "\n",
       "         Lat       Long     oldname  \n",
       "0 -30.068180 -71.375040   litoralis  \n",
       "1 -30.069180 -71.375780   litoralis  \n",
       "2 -29.913730 -70.943290     clavata  \n",
       "3 -36.757410 -73.176340  subgibbosa  \n",
       "4 -36.757410 -73.176340  subgibbosa  \n",
       "5 -34.664130 -71.416970    castanea  \n",
       "6 -34.664150 -71.416960    castanea  \n",
       "7 -32.156120 -71.528270  subgibbosa  \n",
       "8 -32.156000 -71.528190  subgibbosa  \n",
       "9 -32.156112 -71.528243  subgibbosa  "
      ]
     },
     "execution_count": 60,
     "metadata": {},
     "output_type": "execute_result"
    }
   ],
   "source": [
    "df = pd.read_csv(\"../metadata/pablo-cacti-relabeled-re.csv\")\n",
    "df.head(10)"
   ]
  },
  {
   "cell_type": "markdown",
   "metadata": {},
   "source": [
    "### Data Assembly\n",
    "Select the already demultiplexed data from fastq files and assemble with no restriction overhang detection, and using the Saguaro reference genome."
   ]
  },
  {
   "cell_type": "code",
   "execution_count": 74,
   "metadata": {},
   "outputs": [
    {
     "name": "stdout",
     "output_type": "stream",
     "text": [
      "New Assembly: Eriosyce-2021\n"
     ]
    },
    {
     "data": {
      "text/plain": [
       "0   assembly_name               Eriosyce-2021                                \n",
       "1   project_dir                 /pinky/deren/pablo-cacti/assembly            \n",
       "2   raw_fastq_path                                                           \n",
       "3   barcodes_path                                                            \n",
       "4   sorted_fastq_path           /pinky/deren/pablo-cacti/RAWDATA/[!Undet]*.gz\n",
       "5   assembly_method             reference                                    \n",
       "6   reference_sequence          /pinky/deren/pablo-cacti/reference/saguaro_v1.3.fna\n",
       "7   datatype                    rad                                          \n",
       "8   restriction_overhang        ('', '')                                     \n",
       "9   max_low_qual_bases          5                                            \n",
       "10  phred_Qscore_offset         33                                           \n",
       "11  mindepth_statistical        6                                            \n",
       "12  mindepth_majrule            2                                            \n",
       "13  maxdepth                    10000                                        \n",
       "14  clust_threshold             0.85                                         \n",
       "15  max_barcode_mismatch        0                                            \n",
       "16  filter_adapters             3                                            \n",
       "17  filter_min_trim_len         50                                           \n",
       "18  max_alleles_consens         2                                            \n",
       "19  max_Ns_consens              0.05                                         \n",
       "20  max_Hs_consens              0.05                                         \n",
       "21  min_samples_locus           4                                            \n",
       "22  max_SNPs_locus              0.2                                          \n",
       "23  max_Indels_locus            8                                            \n",
       "24  max_shared_Hs_locus         0.5                                          \n",
       "25  trim_reads                  (0, 0, 0, 0)                                 \n",
       "26  trim_loci                   (0, 0, 0, 0)                                 \n",
       "27  output_formats              ['p', 's', 'l']                              \n",
       "28  pop_assign_file                                                          \n",
       "29  reference_as_filter                                                      "
      ]
     },
     "execution_count": 74,
     "metadata": {},
     "output_type": "execute_result"
    }
   ],
   "source": [
    "data = ip.Assembly(\"Eriosyce-2021\")\n",
    "data.params.project_dir = \"../assembly\"\n",
    "data.params.sorted_fastq_path = \"../RAWDATA/[!Undet]*.gz\"\n",
    "data.params.assembly_method = \"reference\"\n",
    "data.params.reference_sequence = \"../reference/saguaro_v1.3.fna\"\n",
    "data.params.restriction_overhang = (\"\", \"\")\n",
    "data.params.filter_adapters = 2\n",
    "\n",
    "# nextrad adapter sequence\n",
    "data.params.filter_min_trim_len = 50\n",
    "data.params.filter_adapters = 3\n",
    "data.params.mindepth_majrule = 2\n",
    "data.params"
   ]
  },
  {
   "cell_type": "code",
   "execution_count": 75,
   "metadata": {},
   "outputs": [
    {
     "data": {
      "text/plain": [
       "0   random_seed                 42                                           \n",
       "1   max_fragment_length         50                                           \n",
       "2   max_inner_mate_distance     500                                          \n",
       "3   p5_adapter                  AGATCGGAAGAGC                                \n",
       "4   p3_adapter                  AGATCGGAAGAGC                                \n",
       "5   p3_adapters_extra           ['CTGTCTCTTATACAC']                          \n",
       "6   p5_adapters_extra           ['CTGTCTCTTATACAC']                          \n",
       "7   query_cov                   None                                         \n",
       "8   bwa_args                                                                 \n",
       "9   demultiplex_on_i7_tags      False                                        \n",
       "10  declone_PCR_duplicates      False                                        \n",
       "11  merge_technical_replicates  True                                         \n",
       "12  exclude_reference           True                                         \n",
       "13  trim_loci_min_sites         4                                            "
      ]
     },
     "execution_count": 75,
     "metadata": {},
     "output_type": "execute_result"
    }
   ],
   "source": [
    "adapter = \"CTGTCTCTTATACACATCTCCGAGCCCACGAGACCTCTCTACATCTCGTATGCCGTCTTCTGCTTGA\"\n",
    "data.hackersonly.p3_adapters_extra.append(adapter[:15])\n",
    "data.hackersonly.p5_adapters_extra.append(adapter[:15])\n",
    "data.hackersonly"
   ]
  },
  {
   "cell_type": "code",
   "execution_count": 76,
   "metadata": {
    "scrolled": true
   },
   "outputs": [
    {
     "name": "stdout",
     "output_type": "stream",
     "text": [
      "Parallel connection | pinky: 10 cores\n",
      "[####################] 100% 0:05:38 | loading reads        | s1 |\n",
      "Parallel connection closed.\n"
     ]
    }
   ],
   "source": [
    "data.ipcluster['cores'] = 10\n",
    "data.run(\"1\", auto=True, force=True)"
   ]
  },
  {
   "cell_type": "markdown",
   "metadata": {},
   "source": [
    "### Rename samples and join technical replicates\n",
    "The samples are currently labeled by barcode and I want them instead to be labeled by accession."
   ]
  },
  {
   "cell_type": "code",
   "execution_count": 127,
   "metadata": {},
   "outputs": [
    {
     "data": {
      "text/plain": [
       "'TCCTGAGC-GTAAGGAG_S52_L003001'"
      ]
     },
     "execution_count": 127,
     "metadata": {},
     "output_type": "execute_result"
    }
   ],
   "source": [
    "# example sample name\n",
    "list(data.samples.keys())[0]"
   ]
  },
  {
   "cell_type": "code",
   "execution_count": 128,
   "metadata": {},
   "outputs": [],
   "source": [
    "# make dict mapping barcodes to accession IDs\n",
    "barcode_to_accession = {}\n",
    "\n",
    "for sample in data.samples:\n",
    "    bc = sample.split(\"_\")[0]\n",
    "    acc = bcdf.loc[(bcdf.barcode == bc), \"accession\"].iloc[0]\n",
    "    barcode_to_accession[sample] = acc"
   ]
  },
  {
   "cell_type": "code",
   "execution_count": 129,
   "metadata": {},
   "outputs": [
    {
     "name": "stdout",
     "output_type": "stream",
     "text": [
      "New Assembly: Eriosyce-ref-2021\n"
     ]
    }
   ],
   "source": [
    "# create copy of assembly that will use NEW NAMES\n",
    "fdata = ip.merge(\"Eriosyce-ref-2021\", [data], rename_dict=barcode_to_accession)"
   ]
  },
  {
   "cell_type": "code",
   "execution_count": 130,
   "metadata": {},
   "outputs": [
    {
     "data": {
      "text/html": [
       "<div>\n",
       "<style scoped>\n",
       "    .dataframe tbody tr th:only-of-type {\n",
       "        vertical-align: middle;\n",
       "    }\n",
       "\n",
       "    .dataframe tbody tr th {\n",
       "        vertical-align: top;\n",
       "    }\n",
       "\n",
       "    .dataframe thead th {\n",
       "        text-align: right;\n",
       "    }\n",
       "</style>\n",
       "<table border=\"1\" class=\"dataframe\">\n",
       "  <thead>\n",
       "    <tr style=\"text-align: right;\">\n",
       "      <th></th>\n",
       "      <th>state</th>\n",
       "      <th>reads_raw</th>\n",
       "    </tr>\n",
       "  </thead>\n",
       "  <tbody>\n",
       "    <tr>\n",
       "      <th>1075</th>\n",
       "      <td>1</td>\n",
       "      <td>2673356</td>\n",
       "    </tr>\n",
       "    <tr>\n",
       "      <th>1083</th>\n",
       "      <td>1</td>\n",
       "      <td>2212128</td>\n",
       "    </tr>\n",
       "    <tr>\n",
       "      <th>1093</th>\n",
       "      <td>1</td>\n",
       "      <td>3838041</td>\n",
       "    </tr>\n",
       "    <tr>\n",
       "      <th>1288</th>\n",
       "      <td>1</td>\n",
       "      <td>1583203</td>\n",
       "    </tr>\n",
       "    <tr>\n",
       "      <th>1290</th>\n",
       "      <td>1</td>\n",
       "      <td>3033586</td>\n",
       "    </tr>\n",
       "  </tbody>\n",
       "</table>\n",
       "</div>"
      ],
      "text/plain": [
       "      state  reads_raw\n",
       "1075      1    2673356\n",
       "1083      1    2212128\n",
       "1093      1    3838041\n",
       "1288      1    1583203\n",
       "1290      1    3033586"
      ]
     },
     "execution_count": 130,
     "metadata": {},
     "output_type": "execute_result"
    }
   ],
   "source": [
    "# show that .stats now uses new names\n",
    "fdata.stats.head()"
   ]
  },
  {
   "cell_type": "markdown",
   "metadata": {},
   "source": [
    "### Assemble all samples \n",
    "Create a single min4 assembly and we will use the ipyrad-analysis tools to subselect loci for further analyses."
   ]
  },
  {
   "cell_type": "code",
   "execution_count": 131,
   "metadata": {},
   "outputs": [
    {
     "name": "stdout",
     "output_type": "stream",
     "text": [
      "Parallel connection | pinky: 10 cores\n",
      "[####################] 100% 1:23:08 | processing reads     | s2 |\n",
      "[####################] 100% 0:00:01 | indexing reference   | s3 |\n",
      "[####################] 100% 0:07:30 | dereplicating        | s3 |\n",
      "[#################   ]  89% 2:20:37 | mapping reads        | s3 |"
     ]
    },
    {
     "name": "stderr",
     "output_type": "stream",
     "text": [
      "IOPub message rate exceeded.\n",
      "The notebook server will temporarily stop sending output\n",
      "to the client in order to avoid crashing it.\n",
      "To change this limit, set the config variable\n",
      "`--NotebookApp.iopub_msg_rate_limit`.\n",
      "\n",
      "Current values:\n",
      "NotebookApp.iopub_msg_rate_limit=1000.0 (msgs/sec)\n",
      "NotebookApp.rate_limit_window=3.0 (secs)\n",
      "\n"
     ]
    },
    {
     "name": "stdout",
     "output_type": "stream",
     "text": [
      "[################### ]  96% 2:31:19 | mapping reads        | s3 |"
     ]
    },
    {
     "name": "stderr",
     "output_type": "stream",
     "text": [
      "IOPub message rate exceeded.\n",
      "The notebook server will temporarily stop sending output\n",
      "to the client in order to avoid crashing it.\n",
      "To change this limit, set the config variable\n",
      "`--NotebookApp.iopub_msg_rate_limit`.\n",
      "\n",
      "Current values:\n",
      "NotebookApp.iopub_msg_rate_limit=1000.0 (msgs/sec)\n",
      "NotebookApp.rate_limit_window=3.0 (secs)\n",
      "\n"
     ]
    },
    {
     "name": "stdout",
     "output_type": "stream",
     "text": [
      "[###############     ]  77% 0:09:38 | building clusters    | s3 |"
     ]
    },
    {
     "name": "stderr",
     "output_type": "stream",
     "text": [
      "IOPub message rate exceeded.\n",
      "The notebook server will temporarily stop sending output\n",
      "to the client in order to avoid crashing it.\n",
      "To change this limit, set the config variable\n",
      "`--NotebookApp.iopub_msg_rate_limit`.\n",
      "\n",
      "Current values:\n",
      "NotebookApp.iopub_msg_rate_limit=1000.0 (msgs/sec)\n",
      "NotebookApp.rate_limit_window=3.0 (secs)\n",
      "\n"
     ]
    },
    {
     "name": "stdout",
     "output_type": "stream",
     "text": [
      "[####                ]  20% 0:18:50 | consens calling      | s5 |"
     ]
    },
    {
     "name": "stderr",
     "output_type": "stream",
     "text": [
      "IOPub message rate exceeded.\n",
      "The notebook server will temporarily stop sending output\n",
      "to the client in order to avoid crashing it.\n",
      "To change this limit, set the config variable\n",
      "`--NotebookApp.iopub_msg_rate_limit`.\n",
      "\n",
      "Current values:\n",
      "NotebookApp.iopub_msg_rate_limit=1000.0 (msgs/sec)\n",
      "NotebookApp.rate_limit_window=3.0 (secs)\n",
      "\n"
     ]
    },
    {
     "name": "stdout",
     "output_type": "stream",
     "text": [
      "[####################] 100% 0:50:03 | consens calling      | s5 |\n",
      "[####################] 100% 0:00:54 | indexing alleles     | s5 |\n",
      "[####################] 100% 0:01:11 | concatenating bams   | s6 |\n",
      "[####################] 100% 0:00:13 | fetching regions     | s6 |\n",
      "[####################] 100% 0:00:46 | building database    | s6 |\n",
      "[####################] 100% 0:00:53 | applying filters     | s7 |\n",
      "[####################] 100% 0:08:46 | building arrays      | s7 |\n",
      "[#############       ]  66% 0:03:12 | writing conversions  | s7 |"
     ]
    },
    {
     "name": "stderr",
     "output_type": "stream",
     "text": [
      "IOPub message rate exceeded.\n",
      "The notebook server will temporarily stop sending output\n",
      "to the client in order to avoid crashing it.\n",
      "To change this limit, set the config variable\n",
      "`--NotebookApp.iopub_msg_rate_limit`.\n",
      "\n",
      "Current values:\n",
      "NotebookApp.iopub_msg_rate_limit=1000.0 (msgs/sec)\n",
      "NotebookApp.rate_limit_window=3.0 (secs)\n",
      "\n"
     ]
    }
   ],
   "source": [
    "# assemble the dataset with all samples for steps 2-7\n",
    "fdata.ipcluster['cores'] = 10\n",
    "fdata.ipcluster['threads'] = 2\n",
    "fdata.run('234567', force=True, auto=True)"
   ]
  },
  {
   "cell_type": "markdown",
   "metadata": {},
   "source": [
    "### Preliminary phylogenetic analysis\n",
    "Ensure that samples group on phylogeny as expected. Once confirmed, we will then exclude the samples that are not relevant to this study, and re-run step 7 to obtain a final assembly and database with all loci for the target set of samples. \n"
   ]
  },
  {
   "cell_type": "code",
   "execution_count": 135,
   "metadata": {},
   "outputs": [],
   "source": [
    "import ipyrad.analysis as ipa\n",
    "import toytree"
   ]
  },
  {
   "cell_type": "code",
   "execution_count": 140,
   "metadata": {},
   "outputs": [
    {
     "data": {
      "text/html": [
       "<div>\n",
       "<style scoped>\n",
       "    .dataframe tbody tr th:only-of-type {\n",
       "        vertical-align: middle;\n",
       "    }\n",
       "\n",
       "    .dataframe tbody tr th {\n",
       "        vertical-align: top;\n",
       "    }\n",
       "\n",
       "    .dataframe thead th {\n",
       "        text-align: right;\n",
       "    }\n",
       "</style>\n",
       "<table border=\"1\" class=\"dataframe\">\n",
       "  <thead>\n",
       "    <tr style=\"text-align: right;\">\n",
       "      <th></th>\n",
       "      <th>scaffold</th>\n",
       "      <th>start</th>\n",
       "      <th>end</th>\n",
       "      <th>sites</th>\n",
       "      <th>snps</th>\n",
       "      <th>missing</th>\n",
       "      <th>samples</th>\n",
       "    </tr>\n",
       "  </thead>\n",
       "  <tbody>\n",
       "    <tr>\n",
       "      <th>0</th>\n",
       "      <td>concatenated</td>\n",
       "      <td>0</td>\n",
       "      <td>319947</td>\n",
       "      <td>319947</td>\n",
       "      <td>20961</td>\n",
       "      <td>0.291</td>\n",
       "      <td>97</td>\n",
       "    </tr>\n",
       "  </tbody>\n",
       "</table>\n",
       "</div>"
      ],
      "text/plain": [
       "       scaffold  start     end   sites   snps  missing  samples\n",
       "0  concatenated      0  319947  319947  20961    0.291       97"
      ]
     },
     "metadata": {},
     "output_type": "display_data"
    },
    {
     "name": "stdout",
     "output_type": "stream",
     "text": [
      "Wrote data to /pinky/deren/pablo-cacti/analysis-window_extracter/Eriosyce-ref-2021.phy\n"
     ]
    }
   ],
   "source": [
    "# filter and select an alignment with max 50% missing data\n",
    "wex = ipa.window_extracter(\n",
    "    name='Eriosyce-ref-2021',\n",
    "    workdir='../analysis-window_extracter/',\n",
    "    data=\"/pinky/deren/pablo-cacti/assembly/Eriosyce-ref-2021_outfiles/Eriosyce-ref-2021.seqs.hdf5\",\n",
    "    scaffold_idxs=range(5000),\n",
    "    mincov=0.5,\n",
    "    rmincov=0.05,\n",
    ")\n",
    "\n",
    "# show alignment size\n",
    "display(wex.stats)\n",
    "\n",
    "# run extracter to write phylip file output\n",
    "wex.run(force=True)"
   ]
  },
  {
   "cell_type": "code",
   "execution_count": 147,
   "metadata": {},
   "outputs": [
    {
     "name": "stdout",
     "output_type": "stream",
     "text": [
      "/home/deren/miniconda3/envs/ipy/bin/raxmlHPC-PTHREADS-AVX2 -f a -T 11 -m GTRCAT -n Erioscye-ref-2021 -w /pinky/deren/pablo-cacti/analysis-raxml -s /pinky/deren/pablo-cacti/analysis-window_extracter/Eriosyce-ref-2021.phy -p 54321 -N 100 -x 12345\n",
      "job Erioscye-ref-2021 finished successfully\n"
     ]
    }
   ],
   "source": [
    "# run raxml on the new alignment phy file\n",
    "rax = ipa.raxml(\n",
    "    name=\"Erioscye-ref-2021\",\n",
    "    workdir=\"../analysis-raxml\",\n",
    "    data=\"../analysis-window_extracter/Eriosyce-ref-2021.phy\",\n",
    "    T=11,\n",
    "    m=\"GTRCAT\"\n",
    ")\n",
    "\n",
    "# print the raxml command\n",
    "print(rax.command)\n",
    "\n",
    "# run raxml inference\n",
    "rax.run(force=True)"
   ]
  },
  {
   "cell_type": "code",
   "execution_count": 170,
   "metadata": {},
   "outputs": [
    {
     "data": {
      "text/html": [
       "<div class=\"toyplot\" id=\"t3c4ccb7e2f9e437d871092fcbcb09d22\" style=\"text-align:center\"><svg class=\"toyplot-canvas-Canvas\" height=\"1000.0px\" id=\"ta8d0835910764cf781b091195b1e08d0\" preserveAspectRatio=\"xMidYMid meet\" style=\"background-color:transparent;border-color:#292724;border-style:none;border-width:1.0;fill:rgb(16.1%,15.3%,14.1%);fill-opacity:1.0;font-family:Helvetica;font-size:12px;opacity:1.0;stroke:rgb(16.1%,15.3%,14.1%);stroke-opacity:1.0;stroke-width:1.0\" viewBox=\"0 0 395.0 1000.0\" width=\"395.0px\" xmlns=\"http://www.w3.org/2000/svg\" xmlns:toyplot=\"http://www.sandia.gov/toyplot\" xmlns:xlink=\"http://www.w3.org/1999/xlink\"><g class=\"toyplot-coordinates-Cartesian\" id=\"t2b3126a3a1064b7ab260b0a97a441237\"><clipPath id=\"t6c7e80d26f514e529b8ba829740be7a3\"><rect height=\"940.0\" width=\"335.0\" x=\"30.0\" y=\"30.0\"></rect></clipPath><g clip-path=\"url(#t6c7e80d26f514e529b8ba829740be7a3)\"><g class=\"toytree-mark-Toytree\" id=\"t09370bf5710d4d18a12f5b1c13e91647\"><g class=\"toytree-Edges\" style=\"fill:none;stroke:rgb(14.9%,14.9%,14.9%);stroke-linecap:round;stroke-opacity:1;stroke-width:2\"><path d=\"M 51.1 87.2 L 51.1 112.2 L 130.4 112.2\" id=\"192,191\"></path><path d=\"M 130.4 112.2 L 130.4 153.0 L 147.6 153.0\" id=\"191,190\"></path><path d=\"M 147.6 153.0 L 147.6 225.4 L 158.3 225.4\" id=\"190,189\"></path><path d=\"M 158.3 225.4 L 158.3 145.5 L 160.4 145.5\" id=\"189,188\"></path><path d=\"M 158.3 225.4 L 158.3 305.4 L 159.9 305.4\" id=\"189,187\"></path><path d=\"M 160.4 145.5 L 160.4 104.4 L 161.6 104.4\" id=\"188,186\"></path><path d=\"M 160.4 145.5 L 160.4 186.5 L 163.5 186.5\" id=\"188,185\"></path><path d=\"M 159.9 305.4 L 159.9 320.6 L 162.0 320.6\" id=\"187,184\"></path><path d=\"M 161.6 104.4 L 161.6 94.2 L 166.7 94.2\" id=\"186,183\"></path><path d=\"M 161.6 104.4 L 161.6 114.7 L 162.8 114.7\" id=\"186,182\"></path><path d=\"M 163.5 186.5 L 163.5 153.5 L 164.2 153.5\" id=\"185,181\"></path><path d=\"M 163.5 186.5 L 163.5 219.6 L 164.5 219.6\" id=\"185,180\"></path><path d=\"M 162.0 320.6 L 162.0 341.8 L 162.5 341.8\" id=\"184,179\"></path><path d=\"M 162.8 114.7 L 162.8 121.5 L 164.4 121.5\" id=\"182,178\"></path><path d=\"M 164.2 153.5 L 164.2 139.8 L 165.8 139.8\" id=\"181,177\"></path><path d=\"M 164.2 153.5 L 164.2 167.1 L 165.4 167.1\" id=\"181,176\"></path><path d=\"M 164.5 219.6 L 164.5 197.9 L 165.7 197.9\" id=\"180,175\"></path><path d=\"M 164.5 219.6 L 164.5 241.2 L 165.0 241.2\" id=\"180,174\"></path><path d=\"M 162.5 341.8 L 162.5 315.3 L 164.7 315.3\" id=\"179,173\"></path><path d=\"M 162.5 341.8 L 162.5 368.3 L 163.4 368.3\" id=\"179,172\"></path><path d=\"M 165.4 167.1 L 165.4 158.0 L 167.6 158.0\" id=\"176,171\"></path><path d=\"M 165.4 167.1 L 165.4 176.3 L 169.4 176.3\" id=\"176,170\"></path><path d=\"M 165.7 197.9 L 165.7 205.9 L 166.8 205.9\" id=\"175,169\"></path><path d=\"M 165.0 241.2 L 165.0 256.0 L 165.8 256.0\" id=\"174,168\"></path><path d=\"M 164.7 315.3 L 164.7 322.2 L 165.2 322.2\" id=\"173,167\"></path><path d=\"M 163.4 368.3 L 163.4 400.9 L 164.3 400.9\" id=\"172,166\"></path><path d=\"M 166.8 205.9 L 166.8 212.7 L 167.6 212.7\" id=\"169,165\"></path><path d=\"M 165.8 256.0 L 165.8 242.4 L 166.8 242.4\" id=\"168,164\"></path><path d=\"M 165.8 256.0 L 165.8 269.7 L 166.8 269.7\" id=\"168,163\"></path><path d=\"M 164.3 400.9 L 164.3 456.7 L 164.9 456.7\" id=\"166,162\"></path><path d=\"M 166.8 242.4 L 166.8 249.2 L 167.9 249.2\" id=\"164,161\"></path><path d=\"M 166.8 269.7 L 166.8 276.6 L 168.1 276.6\" id=\"163,160\"></path><path d=\"M 164.9 456.7 L 164.9 360.9 L 165.7 360.9\" id=\"162,159\"></path><path d=\"M 164.9 456.7 L 164.9 552.5 L 165.5 552.5\" id=\"162,158\"></path><path d=\"M 165.7 360.9 L 165.7 367.8 L 167.5 367.8\" id=\"159,157\"></path><path d=\"M 165.5 552.5 L 165.5 452.0 L 165.9 452.0\" id=\"158,156\"></path><path d=\"M 165.5 552.5 L 165.5 653.1 L 166.0 653.1\" id=\"158,155\"></path><path d=\"M 165.9 452.0 L 165.9 404.5 L 166.3 404.5\" id=\"156,154\"></path><path d=\"M 165.9 452.0 L 165.9 499.4 L 166.6 499.4\" id=\"156,153\"></path><path d=\"M 166.0 653.1 L 166.0 574.8 L 166.4 574.8\" id=\"155,152\"></path><path d=\"M 166.0 653.1 L 166.0 731.4 L 166.8 731.4\" id=\"155,151\"></path><path d=\"M 166.3 404.5 L 166.3 388.3 L 167.0 388.3\" id=\"154,150\"></path><path d=\"M 166.3 404.5 L 166.3 420.8 L 166.8 420.8\" id=\"154,149\"></path><path d=\"M 166.6 499.4 L 166.6 474.9 L 166.8 474.9\" id=\"153,148\"></path><path d=\"M 166.6 499.4 L 166.6 523.9 L 167.1 523.9\" id=\"153,147\"></path><path d=\"M 166.4 574.8 L 166.4 559.3 L 167.5 559.3\" id=\"152,146\"></path><path d=\"M 166.4 574.8 L 166.4 590.3 L 167.0 590.3\" id=\"152,145\"></path><path d=\"M 166.8 731.4 L 166.8 658.2 L 167.4 658.2\" id=\"151,144\"></path><path d=\"M 166.8 731.4 L 166.8 804.7 L 167.4 804.7\" id=\"151,143\"></path><path d=\"M 167.0 388.3 L 167.0 395.1 L 167.6 395.1\" id=\"150,142\"></path><path d=\"M 166.8 420.8 L 166.8 432.7 L 167.2 432.7\" id=\"149,141\"></path><path d=\"M 166.8 474.9 L 166.8 486.3 L 167.6 486.3\" id=\"148,140\"></path><path d=\"M 167.1 523.9 L 167.1 513.7 L 168.0 513.7\" id=\"147,139\"></path><path d=\"M 167.1 523.9 L 167.1 534.2 L 167.7 534.2\" id=\"147,138\"></path><path d=\"M 167.0 590.3 L 167.0 577.5 L 167.5 577.5\" id=\"145,137\"></path><path d=\"M 167.0 590.3 L 167.0 603.2 L 167.4 603.2\" id=\"145,136\"></path><path d=\"M 167.4 658.2 L 167.4 670.4 L 168.0 670.4\" id=\"144,135\"></path><path d=\"M 167.4 804.7 L 167.4 744.5 L 167.9 744.5\" id=\"143,134\"></path><path d=\"M 167.4 804.7 L 167.4 864.8 L 167.9 864.8\" id=\"143,133\"></path><path d=\"M 167.2 432.7 L 167.2 422.5 L 168.0 422.5\" id=\"141,132\"></path><path d=\"M 167.2 432.7 L 167.2 443.0 L 167.9 443.0\" id=\"141,131\"></path><path d=\"M 167.6 486.3 L 167.6 477.2 L 168.0 477.2\" id=\"140,130\"></path><path d=\"M 167.6 486.3 L 167.6 495.4 L 170.3 495.4\" id=\"140,129\"></path><path d=\"M 167.7 534.2 L 167.7 541.0 L 168.5 541.0\" id=\"138,128\"></path><path d=\"M 167.4 603.2 L 167.4 615.1 L 170.1 615.1\" id=\"136,127\"></path><path d=\"M 168.0 670.4 L 168.0 659.6 L 169.8 659.6\" id=\"135,126\"></path><path d=\"M 168.0 670.4 L 168.0 681.3 L 168.7 681.3\" id=\"135,125\"></path><path d=\"M 167.9 744.5 L 167.9 718.3 L 168.6 718.3\" id=\"134,124\"></path><path d=\"M 167.9 744.5 L 167.9 770.7 L 168.5 770.7\" id=\"134,123\"></path><path d=\"M 167.9 864.8 L 167.9 831.2 L 168.5 831.2\" id=\"133,122\"></path><path d=\"M 167.9 864.8 L 167.9 898.4 L 168.5 898.4\" id=\"133,121\"></path><path d=\"M 167.9 443.0 L 167.9 449.8 L 169.2 449.8\" id=\"131,120\"></path><path d=\"M 170.1 615.1 L 170.1 604.9 L 171.5 604.9\" id=\"127,119\"></path><path d=\"M 170.1 615.1 L 170.1 625.4 L 172.5 625.4\" id=\"127,118\"></path><path d=\"M 168.7 681.3 L 168.7 689.2 L 169.7 689.2\" id=\"125,117\"></path><path d=\"M 168.6 718.3 L 168.6 726.9 L 169.1 726.9\" id=\"124,116\"></path><path d=\"M 168.5 770.7 L 168.5 759.9 L 169.3 759.9\" id=\"123,115\"></path><path d=\"M 168.5 770.7 L 168.5 781.6 L 169.2 781.6\" id=\"123,114\"></path><path d=\"M 168.5 831.2 L 168.5 816.9 L 169.6 816.9\" id=\"122,113\"></path><path d=\"M 168.5 831.2 L 168.5 845.4 L 169.9 845.4\" id=\"122,112\"></path><path d=\"M 168.5 898.4 L 168.5 880.7 L 169.2 880.7\" id=\"121,111\"></path><path d=\"M 168.5 898.4 L 168.5 916.1 L 169.2 916.1\" id=\"121,110\"></path><path d=\"M 172.5 625.4 L 172.5 632.2 L 174.1 632.2\" id=\"118,109\"></path><path d=\"M 169.7 689.2 L 169.7 696.1 L 170.5 696.1\" id=\"117,108\"></path><path d=\"M 169.1 726.9 L 169.1 734.8 L 169.9 734.8\" id=\"116,107\"></path><path d=\"M 169.2 781.6 L 169.2 789.5 L 170.0 789.5\" id=\"114,106\"></path><path d=\"M 169.6 816.9 L 169.6 823.7 L 170.3 823.7\" id=\"113,105\"></path><path d=\"M 169.9 845.4 L 169.9 853.4 L 170.5 853.4\" id=\"112,104\"></path><path d=\"M 169.2 880.7 L 169.2 887.6 L 169.8 887.6\" id=\"111,103\"></path><path d=\"M 169.2 916.1 L 169.2 905.8 L 170.8 905.8\" id=\"110,102\"></path><path d=\"M 169.2 916.1 L 169.2 926.3 L 170.1 926.3\" id=\"110,101\"></path><path d=\"M 169.9 734.8 L 169.9 741.7 L 170.5 741.7\" id=\"107,100\"></path><path d=\"M 170.0 789.5 L 170.0 796.4 L 172.3 796.4\" id=\"106,99\"></path><path d=\"M 170.5 853.4 L 170.5 860.2 L 189.9 860.2\" id=\"104,98\"></path><path d=\"M 170.1 926.3 L 170.1 933.2 L 171.2 933.2\" id=\"101,97\"></path><path d=\"M 51.1 87.2 L 51.1 62.3 L 130.4 62.3\" id=\"192,96\"></path><path d=\"M 130.4 112.2 L 130.4 71.4 L 157.5 71.4\" id=\"191,95\"></path><path d=\"M 147.6 153.0 L 147.6 80.5 L 168.2 80.5\" id=\"190,94\"></path><path d=\"M 166.7 94.2 L 166.7 89.6 L 171.0 89.6\" id=\"183,93\"></path><path d=\"M 166.7 94.2 L 166.7 98.7 L 171.9 98.7\" id=\"183,92\"></path><path d=\"M 162.8 114.7 L 162.8 107.9 L 171.5 107.9\" id=\"182,91\"></path><path d=\"M 164.4 121.5 L 164.4 117.0 L 172.9 117.0\" id=\"178,90\"></path><path d=\"M 164.4 121.5 L 164.4 126.1 L 170.8 126.1\" id=\"178,89\"></path><path d=\"M 165.8 139.8 L 165.8 135.2 L 172.2 135.2\" id=\"177,88\"></path><path d=\"M 165.8 139.8 L 165.8 144.3 L 171.7 144.3\" id=\"177,87\"></path><path d=\"M 167.6 158.0 L 167.6 153.5 L 173.4 153.5\" id=\"171,86\"></path><path d=\"M 167.6 158.0 L 167.6 162.6 L 173.0 162.6\" id=\"171,85\"></path><path d=\"M 169.4 176.3 L 169.4 171.7 L 172.0 171.7\" id=\"170,84\"></path><path d=\"M 169.4 176.3 L 169.4 180.8 L 173.2 180.8\" id=\"170,83\"></path><path d=\"M 165.7 197.9 L 165.7 189.9 L 171.5 189.9\" id=\"175,82\"></path><path d=\"M 166.8 205.9 L 166.8 199.1 L 173.9 199.1\" id=\"169,81\"></path><path d=\"M 167.6 212.7 L 167.6 208.2 L 173.4 208.2\" id=\"165,80\"></path><path d=\"M 167.6 212.7 L 167.6 217.3 L 173.3 217.3\" id=\"165,79\"></path><path d=\"M 165.0 241.2 L 165.0 226.4 L 171.4 226.4\" id=\"174,78\"></path><path d=\"M 166.8 242.4 L 166.8 235.5 L 172.6 235.5\" id=\"164,77\"></path><path d=\"M 167.9 249.2 L 167.9 244.6 L 172.8 244.6\" id=\"161,76\"></path><path d=\"M 167.9 249.2 L 167.9 253.8 L 173.2 253.8\" id=\"161,75\"></path><path d=\"M 166.8 269.7 L 166.8 262.9 L 171.7 262.9\" id=\"163,74\"></path><path d=\"M 168.1 276.6 L 168.1 272.0 L 172.6 272.0\" id=\"160,73\"></path><path d=\"M 168.1 276.6 L 168.1 281.1 L 174.7 281.1\" id=\"160,72\"></path><path d=\"M 159.9 305.4 L 159.9 290.2 L 167.9 290.2\" id=\"187,71\"></path><path d=\"M 162.0 320.6 L 162.0 299.4 L 167.1 299.4\" id=\"184,70\"></path><path d=\"M 164.7 315.3 L 164.7 308.5 L 170.0 308.5\" id=\"173,69\"></path><path d=\"M 165.2 322.2 L 165.2 317.6 L 170.8 317.6\" id=\"167,68\"></path><path d=\"M 165.2 322.2 L 165.2 326.7 L 169.2 326.7\" id=\"167,67\"></path><path d=\"M 163.4 368.3 L 163.4 335.8 L 168.8 335.8\" id=\"172,66\"></path><path d=\"M 164.3 400.9 L 164.3 345.0 L 169.2 345.0\" id=\"166,65\"></path><path d=\"M 165.7 360.9 L 165.7 354.1 L 169.4 354.1\" id=\"159,64\"></path><path d=\"M 167.5 367.8 L 167.5 363.2 L 171.4 363.2\" id=\"157,63\"></path><path d=\"M 167.5 367.8 L 167.5 372.3 L 169.7 372.3\" id=\"157,62\"></path><path d=\"M 167.0 388.3 L 167.0 381.4 L 170.8 381.4\" id=\"150,61\"></path><path d=\"M 167.6 395.1 L 167.6 390.6 L 170.7 390.6\" id=\"142,60\"></path><path d=\"M 167.6 395.1 L 167.6 399.7 L 172.2 399.7\" id=\"142,59\"></path><path d=\"M 166.8 420.8 L 166.8 408.8 L 170.7 408.8\" id=\"149,58\"></path><path d=\"M 168.0 422.5 L 168.0 417.9 L 171.5 417.9\" id=\"132,57\"></path><path d=\"M 168.0 422.5 L 168.0 427.0 L 171.1 427.0\" id=\"132,56\"></path><path d=\"M 167.9 443.0 L 167.9 436.2 L 171.4 436.2\" id=\"131,55\"></path><path d=\"M 169.2 449.8 L 169.2 445.3 L 173.6 445.3\" id=\"120,54\"></path><path d=\"M 169.2 449.8 L 169.2 454.4 L 172.7 454.4\" id=\"120,53\"></path><path d=\"M 166.8 474.9 L 166.8 463.5 L 172.9 463.5\" id=\"148,52\"></path><path d=\"M 168.0 477.2 L 168.0 472.6 L 171.9 472.6\" id=\"130,51\"></path><path d=\"M 168.0 477.2 L 168.0 481.8 L 172.2 481.8\" id=\"130,50\"></path><path d=\"M 170.3 495.4 L 170.3 490.9 L 174.2 490.9\" id=\"129,49\"></path><path d=\"M 170.3 495.4 L 170.3 500.0 L 175.7 500.0\" id=\"129,48\"></path><path d=\"M 168.0 513.7 L 168.0 509.1 L 171.2 509.1\" id=\"139,47\"></path><path d=\"M 168.0 513.7 L 168.0 518.2 L 170.9 518.2\" id=\"139,46\"></path><path d=\"M 167.7 534.2 L 167.7 527.4 L 172.5 527.4\" id=\"138,45\"></path><path d=\"M 168.5 541.0 L 168.5 536.5 L 171.4 536.5\" id=\"128,44\"></path><path d=\"M 168.5 541.0 L 168.5 545.6 L 171.4 545.6\" id=\"128,43\"></path><path d=\"M 167.5 559.3 L 167.5 554.7 L 172.6 554.7\" id=\"146,42\"></path><path d=\"M 167.5 559.3 L 167.5 563.8 L 170.2 563.8\" id=\"146,41\"></path><path d=\"M 167.5 577.5 L 167.5 573.0 L 171.0 573.0\" id=\"137,40\"></path><path d=\"M 167.5 577.5 L 167.5 582.1 L 172.7 582.1\" id=\"137,39\"></path><path d=\"M 167.4 603.2 L 167.4 591.2 L 171.0 591.2\" id=\"136,38\"></path><path d=\"M 171.5 604.9 L 171.5 600.3 L 174.4 600.3\" id=\"119,37\"></path><path d=\"M 171.5 604.9 L 171.5 609.4 L 175.4 609.4\" id=\"119,36\"></path><path d=\"M 172.5 625.4 L 172.5 618.6 L 178.3 618.6\" id=\"118,35\"></path><path d=\"M 174.1 632.2 L 174.1 627.7 L 177.2 627.7\" id=\"109,34\"></path><path d=\"M 174.1 632.2 L 174.1 636.8 L 177.4 636.8\" id=\"109,33\"></path><path d=\"M 167.4 658.2 L 167.4 645.9 L 170.9 645.9\" id=\"144,32\"></path><path d=\"M 169.8 659.6 L 169.8 655.0 L 176.1 655.0\" id=\"126,31\"></path><path d=\"M 169.8 659.6 L 169.8 664.2 L 173.2 664.2\" id=\"126,30\"></path><path d=\"M 168.7 681.3 L 168.7 673.3 L 172.2 673.3\" id=\"125,29\"></path><path d=\"M 169.7 689.2 L 169.7 682.4 L 173.7 682.4\" id=\"117,28\"></path><path d=\"M 170.5 696.1 L 170.5 691.5 L 174.8 691.5\" id=\"108,27\"></path><path d=\"M 170.5 696.1 L 170.5 700.6 L 175.1 700.6\" id=\"108,26\"></path><path d=\"M 168.6 718.3 L 168.6 709.8 L 173.9 709.8\" id=\"124,25\"></path><path d=\"M 169.1 726.9 L 169.1 718.9 L 173.4 718.9\" id=\"116,24\"></path><path d=\"M 169.9 734.8 L 169.9 728.0 L 173.7 728.0\" id=\"107,23\"></path><path d=\"M 170.5 741.7 L 170.5 737.1 L 175.9 737.1\" id=\"100,22\"></path><path d=\"M 170.5 741.7 L 170.5 746.2 L 176.4 746.2\" id=\"100,21\"></path><path d=\"M 169.3 759.9 L 169.3 755.4 L 173.6 755.4\" id=\"115,20\"></path><path d=\"M 169.3 759.9 L 169.3 764.5 L 173.3 764.5\" id=\"115,19\"></path><path d=\"M 169.2 781.6 L 169.2 773.6 L 174.3 773.6\" id=\"114,18\"></path><path d=\"M 170.0 789.5 L 170.0 782.7 L 174.8 782.7\" id=\"106,17\"></path><path d=\"M 172.3 796.4 L 172.3 791.8 L 175.7 791.8\" id=\"99,16\"></path><path d=\"M 172.3 796.4 L 172.3 800.9 L 175.0 800.9\" id=\"99,15\"></path><path d=\"M 169.6 816.9 L 169.6 810.1 L 173.1 810.1\" id=\"113,14\"></path><path d=\"M 170.3 823.7 L 170.3 819.2 L 174.0 819.2\" id=\"105,13\"></path><path d=\"M 170.3 823.7 L 170.3 828.3 L 174.0 828.3\" id=\"105,12\"></path><path d=\"M 169.9 845.4 L 169.9 837.4 L 173.8 837.4\" id=\"112,11\"></path><path d=\"M 170.5 853.4 L 170.5 846.5 L 174.3 846.5\" id=\"104,10\"></path><path d=\"M 189.9 860.2 L 189.9 855.7 L 189.9 855.7\" id=\"98,9\"></path><path d=\"M 189.9 860.2 L 189.9 864.8 L 218.2 864.8\" id=\"98,8\"></path><path d=\"M 169.2 880.7 L 169.2 873.9 L 173.4 873.9\" id=\"111,7\"></path><path d=\"M 169.8 887.6 L 169.8 883.0 L 173.1 883.0\" id=\"103,6\"></path><path d=\"M 169.8 887.6 L 169.8 892.1 L 175.7 892.1\" id=\"103,5\"></path><path d=\"M 170.8 905.8 L 170.8 901.3 L 176.2 901.3\" id=\"102,4\"></path><path d=\"M 170.8 905.8 L 170.8 910.4 L 174.4 910.4\" id=\"102,3\"></path><path d=\"M 170.1 926.3 L 170.1 919.5 L 175.0 919.5\" id=\"101,2\"></path><path d=\"M 171.2 933.2 L 171.2 928.6 L 175.6 928.6\" id=\"97,1\"></path><path d=\"M 171.2 933.2 L 171.2 937.7 L 176.0 937.7\" id=\"97,0\"></path></g><g class=\"toytree-TipLabels\" style=\"fill:rgb(14.9%,14.9%,14.9%);fill-opacity:1.0;font-family:helvetica;font-size:11px;font-weight:normal;stroke:none;white-space:pre\"><g transform=\"translate(175.98,937.74)rotate(0)\"><text style=\"\" x=\"15.00\" y=\"2.81\">chilensis_1550</text></g><g transform=\"translate(175.58,928.62)rotate(0)\"><text style=\"\" x=\"15.00\" y=\"2.81\">chilensis_1549</text></g><g transform=\"translate(175.05,919.50)rotate(0)\"><text style=\"\" x=\"15.00\" y=\"2.81\">chilensis_1548</text></g><g transform=\"translate(174.37,910.38)rotate(0)\"><text style=\"\" x=\"15.00\" y=\"2.81\">chilensis_1540</text></g><g transform=\"translate(176.22,901.26)rotate(0)\"><text style=\"\" x=\"15.00\" y=\"2.81\">chilensis_1542</text></g><g transform=\"translate(175.65,892.14)rotate(0)\"><text style=\"\" x=\"15.00\" y=\"2.81\">chilensis_1535</text></g><g transform=\"translate(173.15,883.03)rotate(0)\"><text style=\"\" x=\"15.00\" y=\"2.81\">chilensis-albidiflora_1524</text></g><g transform=\"translate(173.41,873.91)rotate(0)\"><text style=\"\" x=\"15.00\" y=\"2.81\">chilensis-albidiflora_1523</text></g><g transform=\"translate(218.15,864.79)rotate(0)\"><text style=\"\" x=\"15.00\" y=\"2.81\">undet_1530x</text></g><g transform=\"translate(189.91,855.67)rotate(0)\"><text style=\"\" x=\"15.00\" y=\"2.81\">chilensis_1530</text></g><g transform=\"translate(174.25,846.55)rotate(0)\"><text style=\"\" x=\"15.00\" y=\"2.81\">chilensis-albidiflora_1509</text></g><g transform=\"translate(173.81,837.43)rotate(0)\"><text style=\"\" x=\"15.00\" y=\"2.81\">chilensis-albidiflora_1508</text></g><g transform=\"translate(174.00,828.31)rotate(0)\"><text style=\"\" x=\"15.00\" y=\"2.81\">chilensis-albidiflora_1580</text></g><g transform=\"translate(174.00,819.19)rotate(0)\"><text style=\"\" x=\"15.00\" y=\"2.81\">chilensis-albidiflora_1583</text></g><g transform=\"translate(173.09,810.07)rotate(0)\"><text style=\"\" x=\"15.00\" y=\"2.81\">chilensis-albidiflora_1582</text></g><g transform=\"translate(175.01,800.95)rotate(0)\"><text style=\"\" x=\"15.00\" y=\"2.81\">chilensis-albidiflora_1511</text></g><g transform=\"translate(175.69,791.83)rotate(0)\"><text style=\"\" x=\"15.00\" y=\"2.81\">chilensis-albidiflora_1512</text></g><g transform=\"translate(174.81,782.71)rotate(0)\"><text style=\"\" x=\"15.00\" y=\"2.81\">chilensis_1562</text></g><g transform=\"translate(174.28,773.59)rotate(0)\"><text style=\"\" x=\"15.00\" y=\"2.81\">chilensis_1556</text></g><g transform=\"translate(173.30,764.47)rotate(0)\"><text style=\"\" x=\"15.00\" y=\"2.81\">chilensis-albidiflora_1516</text></g><g transform=\"translate(173.64,755.35)rotate(0)\"><text style=\"\" x=\"15.00\" y=\"2.81\">chilensis-albidiflora_1521</text></g><g transform=\"translate(176.42,746.23)rotate(0)\"><text style=\"\" x=\"15.00\" y=\"2.81\">chilensis_1560</text></g><g transform=\"translate(175.88,737.11)rotate(0)\"><text style=\"\" x=\"15.00\" y=\"2.81\">chilensis_1594</text></g><g transform=\"translate(173.65,727.99)rotate(0)\"><text style=\"\" x=\"15.00\" y=\"2.81\">chilensis_1593</text></g><g transform=\"translate(173.39,718.87)rotate(0)\"><text style=\"\" x=\"15.00\" y=\"2.81\">chilensis_1531</text></g><g transform=\"translate(173.95,709.75)rotate(0)\"><text style=\"\" x=\"15.00\" y=\"2.81\">chilensis_1570</text></g><g transform=\"translate(175.11,700.63)rotate(0)\"><text style=\"\" x=\"15.00\" y=\"2.81\">chilensis-albidiflora_1518</text></g><g transform=\"translate(174.78,691.51)rotate(0)\"><text style=\"\" x=\"15.00\" y=\"2.81\">chilensis_1541</text></g><g transform=\"translate(173.74,682.39)rotate(0)\"><text style=\"\" x=\"15.00\" y=\"2.81\">chilensis-albidiflora_1585</text></g><g transform=\"translate(172.17,673.27)rotate(0)\"><text style=\"\" x=\"15.00\" y=\"2.81\">chilensis-albidiflora_1584</text></g><g transform=\"translate(173.21,664.15)rotate(0)\"><text style=\"\" x=\"15.00\" y=\"2.81\">chilensis-albidiflora_1510</text></g><g transform=\"translate(176.05,655.03)rotate(0)\"><text style=\"\" x=\"15.00\" y=\"2.81\">chilensis_1545</text></g><g transform=\"translate(170.90,645.91)rotate(0)\"><text style=\"\" x=\"15.00\" y=\"2.81\">chilensis-albidiflora_1522</text></g><g transform=\"translate(177.43,636.79)rotate(0)\"><text style=\"\" x=\"15.00\" y=\"2.81\">hybrid_HPG2</text></g><g transform=\"translate(177.25,627.68)rotate(0)\"><text style=\"\" x=\"15.00\" y=\"2.81\">hybrid_HPG1</text></g><g transform=\"translate(178.26,618.56)rotate(0)\"><text style=\"\" x=\"15.00\" y=\"2.81\">hybrid_HPG4</text></g><g transform=\"translate(175.38,609.44)rotate(0)\"><text style=\"\" x=\"15.00\" y=\"2.81\">hybrid_SXM2</text></g><g transform=\"translate(174.35,600.32)rotate(0)\"><text style=\"\" x=\"15.00\" y=\"2.81\">hybrid_SXM1</text></g><g transform=\"translate(171.02,591.20)rotate(0)\"><text style=\"\" x=\"15.00\" y=\"2.81\">litoralis_1379</text></g><g transform=\"translate(172.74,582.08)rotate(0)\"><text style=\"\" x=\"15.00\" y=\"2.81\">litoralis_1387</text></g><g transform=\"translate(170.95,572.96)rotate(0)\"><text style=\"\" x=\"15.00\" y=\"2.81\">chilensis_1597</text></g><g transform=\"translate(170.18,563.84)rotate(0)\"><text style=\"\" x=\"15.00\" y=\"2.81\">litoralis_1368</text></g><g transform=\"translate(172.63,554.72)rotate(0)\"><text style=\"\" x=\"15.00\" y=\"2.81\">litoralis_1369</text></g><g transform=\"translate(171.42,545.60)rotate(0)\"><text style=\"\" x=\"15.00\" y=\"2.81\">litoralis_1358</text></g><g transform=\"translate(171.43,536.48)rotate(0)\"><text style=\"\" x=\"15.00\" y=\"2.81\">litoralis_1359</text></g><g transform=\"translate(172.46,527.36)rotate(0)\"><text style=\"\" x=\"15.00\" y=\"2.81\">litoralis_1351</text></g><g transform=\"translate(170.87,518.24)rotate(0)\"><text style=\"\" x=\"15.00\" y=\"2.81\">litoralis_1355</text></g><g transform=\"translate(171.18,509.12)rotate(0)\"><text style=\"\" x=\"15.00\" y=\"2.81\">litoralis_1349</text></g><g transform=\"translate(175.65,500.00)rotate(0)\"><text style=\"\" x=\"15.00\" y=\"2.81\">castanea_1332</text></g><g transform=\"translate(174.23,490.88)rotate(0)\"><text style=\"\" x=\"15.00\" y=\"2.81\">castanea_1333</text></g><g transform=\"translate(172.16,481.76)rotate(0)\"><text style=\"\" x=\"15.00\" y=\"2.81\">litoralis_1354</text></g><g transform=\"translate(171.87,472.64)rotate(0)\"><text style=\"\" x=\"15.00\" y=\"2.81\">litoralis_1362</text></g><g transform=\"translate(172.94,463.52)rotate(0)\"><text style=\"\" x=\"15.00\" y=\"2.81\">litoralis_1353</text></g><g transform=\"translate(172.73,454.40)rotate(0)\"><text style=\"\" x=\"15.00\" y=\"2.81\">litoralis_1377</text></g><g transform=\"translate(173.64,445.28)rotate(0)\"><text style=\"\" x=\"15.00\" y=\"2.81\">litoralis_1375</text></g><g transform=\"translate(171.42,436.16)rotate(0)\"><text style=\"\" x=\"15.00\" y=\"2.81\">litoralis_1374</text></g><g transform=\"translate(171.07,427.04)rotate(0)\"><text style=\"\" x=\"15.00\" y=\"2.81\">litoralis_1372</text></g><g transform=\"translate(171.54,417.92)rotate(0)\"><text style=\"\" x=\"15.00\" y=\"2.81\">litoralis_1383</text></g><g transform=\"translate(170.73,408.80)rotate(0)\"><text style=\"\" x=\"15.00\" y=\"2.81\">litoralis_1350</text></g><g transform=\"translate(172.22,399.68)rotate(0)\"><text style=\"\" x=\"15.00\" y=\"2.81\">litoralis_1364</text></g><g transform=\"translate(170.71,390.56)rotate(0)\"><text style=\"\" x=\"15.00\" y=\"2.81\">litoralis_1356</text></g><g transform=\"translate(170.83,381.44)rotate(0)\"><text style=\"\" x=\"15.00\" y=\"2.81\">chilensis_1596</text></g><g transform=\"translate(169.70,372.32)rotate(0)\"><text style=\"\" x=\"15.00\" y=\"2.81\">litoralis_1385</text></g><g transform=\"translate(171.37,363.21)rotate(0)\"><text style=\"\" x=\"15.00\" y=\"2.81\">litoralis_1384</text></g><g transform=\"translate(169.35,354.09)rotate(0)\"><text style=\"\" x=\"15.00\" y=\"2.81\">litoralis_1371</text></g><g transform=\"translate(169.20,344.97)rotate(0)\"><text style=\"\" x=\"15.00\" y=\"2.81\">senilis_BV185</text></g><g transform=\"translate(168.80,335.85)rotate(0)\"><text style=\"\" x=\"15.00\" y=\"2.81\">senilis_BV152</text></g><g transform=\"translate(169.19,326.73)rotate(0)\"><text style=\"\" x=\"15.00\" y=\"2.81\">litoralis_1075</text></g><g transform=\"translate(170.78,317.61)rotate(0)\"><text style=\"\" x=\"15.00\" y=\"2.81\">litoralis_1352</text></g><g transform=\"translate(169.95,308.49)rotate(0)\"><text style=\"\" x=\"15.00\" y=\"2.81\">litoralis_1083</text></g><g transform=\"translate(167.14,299.37)rotate(0)\"><text style=\"\" x=\"15.00\" y=\"2.81\">clavata_1093</text></g><g transform=\"translate(167.91,290.25)rotate(0)\"><text style=\"\" x=\"15.00\" y=\"2.81\">subgibbosa_1288</text></g><g transform=\"translate(174.68,281.13)rotate(0)\"><text style=\"\" x=\"15.00\" y=\"2.81\">mutabilis_1591</text></g><g transform=\"translate(172.64,272.01)rotate(0)\"><text style=\"\" x=\"15.00\" y=\"2.81\">mutabilis_1527</text></g><g transform=\"translate(171.68,262.89)rotate(0)\"><text style=\"\" x=\"15.00\" y=\"2.81\">mutabilis_1536</text></g><g transform=\"translate(173.16,253.77)rotate(0)\"><text style=\"\" x=\"15.00\" y=\"2.81\">mutabilis_1525</text></g><g transform=\"translate(172.80,244.65)rotate(0)\"><text style=\"\" x=\"15.00\" y=\"2.81\">mutabilis_1546</text></g><g transform=\"translate(172.60,235.53)rotate(0)\"><text style=\"\" x=\"15.00\" y=\"2.81\">mutabilis_1538</text></g><g transform=\"translate(171.42,226.41)rotate(0)\"><text style=\"\" x=\"15.00\" y=\"2.81\">mutabilis_1539</text></g><g transform=\"translate(173.32,217.29)rotate(0)\"><text style=\"\" x=\"15.00\" y=\"2.81\">mutabilis_1588</text></g><g transform=\"translate(173.36,208.17)rotate(0)\"><text style=\"\" x=\"15.00\" y=\"2.81\">mutabilis_1590</text></g><g transform=\"translate(173.86,199.05)rotate(0)\"><text style=\"\" x=\"15.00\" y=\"2.81\">mutabilis_1589</text></g><g transform=\"translate(171.46,189.93)rotate(0)\"><text style=\"\" x=\"15.00\" y=\"2.81\">mutabilis_1592</text></g><g transform=\"translate(173.25,180.81)rotate(0)\"><text style=\"\" x=\"15.00\" y=\"2.81\">clavata_BV85</text></g><g transform=\"translate(171.97,171.69)rotate(0)\"><text style=\"\" x=\"15.00\" y=\"2.81\">mutabilis_1567</text></g><g transform=\"translate(172.97,162.57)rotate(0)\"><text style=\"\" x=\"15.00\" y=\"2.81\">mutabilis_1553</text></g><g transform=\"translate(173.41,153.45)rotate(0)\"><text style=\"\" x=\"15.00\" y=\"2.81\">mutabilis_1554</text></g><g transform=\"translate(171.67,144.33)rotate(0)\"><text style=\"\" x=\"15.00\" y=\"2.81\">mutabilis_1587</text></g><g transform=\"translate(172.24,135.21)rotate(0)\"><text style=\"\" x=\"15.00\" y=\"2.81\">mutabilis_1547</text></g><g transform=\"translate(170.85,126.09)rotate(0)\"><text style=\"\" x=\"15.00\" y=\"2.81\">armata_9366</text></g><g transform=\"translate(172.92,116.97)rotate(0)\"><text style=\"\" x=\"15.00\" y=\"2.81\">aspillagae_1488</text></g><g transform=\"translate(171.45,107.86)rotate(0)\"><text style=\"\" x=\"15.00\" y=\"2.81\">subgibbosa_1290</text></g><g transform=\"translate(171.87,98.74)rotate(0)\"><text style=\"\" x=\"15.00\" y=\"2.81\">curvispina-aconcaguensis_HV55</text></g><g transform=\"translate(171.00,89.62)rotate(0)\"><text style=\"\" x=\"15.00\" y=\"2.81\">curvispina-aconcaguensis_HV54</text></g><g transform=\"translate(168.22,80.50)rotate(0)\"><text style=\"\" x=\"15.00\" y=\"2.81\">marksiana_BV190</text></g><g transform=\"translate(157.46,71.38)rotate(0)\"><text style=\"\" x=\"15.00\" y=\"2.81\">aurata_BV113</text></g><g transform=\"translate(130.41,62.26)rotate(0)\"><text style=\"\" x=\"15.00\" y=\"2.81\">Saguaro</text></g></g></g></g></g></svg><div class=\"toyplot-behavior\"><script>(function()\n",
       "{\n",
       "var modules={};\n",
       "})();</script></div></div>"
      ]
     },
     "metadata": {},
     "output_type": "display_data"
    }
   ],
   "source": [
    "# plot the tree result\n",
    "tre = toytree.tree(\"../analysis-raxml/RAxML_bipartitions.Erioscye-ref-2021\")\n",
    "\n",
    "# get mapping of accessions to sample names\n",
    "namedict = dict(zip(df.accession, df.specie + \"_\" + df.accession))\n",
    "\n",
    "# add extra names\n",
    "namedict['1530x'] = \"undet_1530x\"\n",
    "namedict['reference'] = \"Saguaro\"\n",
    "\n",
    "# root on suspected outgroup (reference)\n",
    "tre = tre.root(\"reference\")\n",
    "\n",
    "# draw tree with sample names\n",
    "tre.draw(\n",
    "    tip_labels=[namedict[i] for i in tre.get_tip_labels()],\n",
    ");"
   ]
  },
  {
   "cell_type": "markdown",
   "metadata": {},
   "source": [
    "### Justification for sampling\n",
    "\n",
    "The samples 1530 and 1530x have strange long branch lengths, and one is of uncertain determination, so we will leave both samples out. The clavata samples BV85 and 1093 were collected close to each other, and identified as the same, but group quite distant on the tree. I suspect 1093 is the true position, and BV85 may be a mislabeling error. Because this species is not important to this study we exclude both samples.\n",
    "\n",
    "The hybrid samples will be kept in the assembly, but will be dropped from some analyses later.\n",
    "\n",
    "The list below will be used in other notebooks to subsample taxa prior to analyses. "
   ]
  },
  {
   "cell_type": "code",
   "execution_count": null,
   "metadata": {},
   "outputs": [],
   "source": [
    "# these are dropped from ALL due to potential labeling error\n",
    "#undet_1530x\n",
    "#chilensis_1530\n",
    "#clavata_BV85\n",
    "#clavata_1093\n",
    "\n",
    "# these will be dropped from some b/c they are not focal spp.\n",
    "# hybrid_HPG2\n",
    "# hybrid_HPG1\n",
    "# hybrid_HPG4\n",
    "# hybrid_SXM2\n",
    "# hybrid_SXM1\n",
    "# castanea_1332\n",
    "# castanea_1333\n",
    "# senilis_BV185\n",
    "# senilis_BV152\n",
    "# subgibbosa_1288\n",
    "# subgibbosa_1290\n",
    "\n",
    "# low amounts of data\n",
    "# 1351\n",
    "# 1352\n",
    "# 1353\n",
    "# 1541\n",
    "# 1594"
   ]
  },
  {
   "cell_type": "code",
   "execution_count": 182,
   "metadata": {},
   "outputs": [
    {
     "data": {
      "text/html": [
       "<div>\n",
       "<style scoped>\n",
       "    .dataframe tbody tr th:only-of-type {\n",
       "        vertical-align: middle;\n",
       "    }\n",
       "\n",
       "    .dataframe tbody tr th {\n",
       "        vertical-align: top;\n",
       "    }\n",
       "\n",
       "    .dataframe thead th {\n",
       "        text-align: right;\n",
       "    }\n",
       "</style>\n",
       "<table border=\"1\" class=\"dataframe\">\n",
       "  <thead>\n",
       "    <tr style=\"text-align: right;\">\n",
       "      <th></th>\n",
       "      <th>sample_coverage</th>\n",
       "    </tr>\n",
       "  </thead>\n",
       "  <tbody>\n",
       "    <tr>\n",
       "      <th>1351</th>\n",
       "      <td>2565</td>\n",
       "    </tr>\n",
       "    <tr>\n",
       "      <th>1352</th>\n",
       "      <td>1693</td>\n",
       "    </tr>\n",
       "    <tr>\n",
       "      <th>1353</th>\n",
       "      <td>3418</td>\n",
       "    </tr>\n",
       "    <tr>\n",
       "      <th>1530</th>\n",
       "      <td>1920</td>\n",
       "    </tr>\n",
       "    <tr>\n",
       "      <th>1530x</th>\n",
       "      <td>1164</td>\n",
       "    </tr>\n",
       "    <tr>\n",
       "      <th>1541</th>\n",
       "      <td>2370</td>\n",
       "    </tr>\n",
       "    <tr>\n",
       "      <th>1594</th>\n",
       "      <td>4987</td>\n",
       "    </tr>\n",
       "  </tbody>\n",
       "</table>\n",
       "</div>"
      ],
      "text/plain": [
       "       sample_coverage\n",
       "1351              2565\n",
       "1352              1693\n",
       "1353              3418\n",
       "1530              1920\n",
       "1530x             1164\n",
       "1541              2370\n",
       "1594              4987"
      ]
     },
     "execution_count": 182,
     "metadata": {},
     "output_type": "execute_result"
    }
   ],
   "source": [
    "fdata.stats_dfs.s7_samples[fdata.stats_dfs.s7_samples.sample_coverage < 5000]"
   ]
  },
  {
   "cell_type": "code",
   "execution_count": 183,
   "metadata": {},
   "outputs": [
    {
     "data": {
      "text/plain": [
       "22"
      ]
     },
     "execution_count": 183,
     "metadata": {},
     "output_type": "execute_result"
    }
   ],
   "source": [
    "DROP = [\n",
    "    '1530',\n",
    "    '1530x',\n",
    "    'BV85',\n",
    "    '1093',\n",
    "    'HPG1',\n",
    "    'HPG2',\n",
    "    'HPG4',\n",
    "    'SXM1',\n",
    "    'SXM2',\n",
    "    'SXM3',\n",
    "    '1332',\n",
    "    '1333',\n",
    "    'BV185',\n",
    "    'BV152',\n",
    "    '1288',\n",
    "    '1290',\n",
    "    'reference',\n",
    "    '1351',\n",
    "    '1352',\n",
    "    '1353',\n",
    "    '1541',\n",
    "    '1594',\n",
    "]\n",
    "len(DROP)"
   ]
  },
  {
   "cell_type": "code",
   "execution_count": null,
   "metadata": {},
   "outputs": [],
   "source": []
  }
 ],
 "metadata": {
  "kernelspec": {
   "display_name": "Python 3",
   "language": "python",
   "name": "python3"
  },
  "language_info": {
   "codemirror_mode": {
    "name": "ipython",
    "version": 3
   },
   "file_extension": ".py",
   "mimetype": "text/x-python",
   "name": "python",
   "nbconvert_exporter": "python",
   "pygments_lexer": "ipython3",
   "version": "3.7.6"
  }
 },
 "nbformat": 4,
 "nbformat_minor": 4
}
