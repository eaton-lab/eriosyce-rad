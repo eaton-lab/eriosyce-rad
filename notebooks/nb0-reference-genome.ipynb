{
 "cells": [
  {
   "cell_type": "markdown",
   "metadata": {},
   "source": [
    "### Download reference genome: Saguaro (Carnegiea gigantea)"
   ]
  },
  {
   "cell_type": "code",
   "execution_count": 1,
   "metadata": {},
   "outputs": [],
   "source": [
    "# https://www.ncbi.nlm.nih.gov/genome/39095"
   ]
  },
  {
   "cell_type": "code",
   "execution_count": 2,
   "metadata": {},
   "outputs": [],
   "source": [
    "URL = (\"ftp://ftp.ncbi.nlm.nih.gov/genomes/all/GCA/\"\n",
    "       \"002/740/515/GCA_002740515.1_SGP5_Cgig_v1.3/\"\n",
    "       \"GCA_002740515.1_SGP5_Cgig_v1.3_genomic.fna.gz\")"
   ]
  },
  {
   "cell_type": "code",
   "execution_count": 10,
   "metadata": {},
   "outputs": [],
   "source": [
    "! mkdir -p ../reference"
   ]
  },
  {
   "cell_type": "code",
   "execution_count": 18,
   "metadata": {
    "scrolled": true
   },
   "outputs": [
    {
     "name": "stdout",
     "output_type": "stream",
     "text": [
      "--2020-10-09 19:18:00--  ftp://ftp.ncbi.nlm.nih.gov/genomes/all/GCA/002/740/515/GCA_002740515.1_SGP5_Cgig_v1.3/GCA_002740515.1_SGP5_Cgig_v1.3_genomic.fna.gz\n",
      "           => ‘../reference/saguaro_v1.3.fna.gz’\n",
      "Resolving ftp.ncbi.nlm.nih.gov (ftp.ncbi.nlm.nih.gov)... 130.14.250.11\n",
      "Connecting to ftp.ncbi.nlm.nih.gov (ftp.ncbi.nlm.nih.gov)|130.14.250.11|:21... connected.\n",
      "Logging in as anonymous ... Logged in!\n",
      "==> SYST ... done.    ==> PWD ... done.\n",
      "==> TYPE I ... done.  ==> CWD (1) /genomes/all/GCA/002/740/515/GCA_002740515.1_SGP5_Cgig_v1.3 ... done.\n",
      "==> SIZE GCA_002740515.1_SGP5_Cgig_v1.3_genomic.fna.gz ... 310989994\n",
      "==> PASV ... done.    ==> RETR GCA_002740515.1_SGP5_Cgig_v1.3_genomic.fna.gz ... done.\n",
      "Length: 310989994 (297M) (unauthoritative)\n",
      "\n",
      "GCA_002740515.1_SGP 100%[===================>] 296.58M  78.0MB/s    in 4.1s    \n",
      "\n",
      "2020-10-09 19:18:04 (72.9 MB/s) - ‘../reference/saguaro_v1.3.fna.gz’ saved [310989994]\n",
      "\n"
     ]
    }
   ],
   "source": [
    "! wget -O ../reference/saguaro_v1.3.fna.gz $URL"
   ]
  },
  {
   "cell_type": "code",
   "execution_count": 19,
   "metadata": {},
   "outputs": [],
   "source": [
    "! gunzip ../reference/saguaro_v1.3.fna.gz"
   ]
  }
 ],
 "metadata": {
  "kernelspec": {
   "display_name": "Python 3",
   "language": "python",
   "name": "python3"
  },
  "language_info": {
   "codemirror_mode": {
    "name": "ipython",
    "version": 3
   },
   "file_extension": ".py",
   "mimetype": "text/x-python",
   "name": "python",
   "nbconvert_exporter": "python",
   "pygments_lexer": "ipython3",
   "version": "3.7.6"
  }
 },
 "nbformat": 4,
 "nbformat_minor": 4
}
